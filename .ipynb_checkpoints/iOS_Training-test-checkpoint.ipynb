{
 "cells": [
  {
   "cell_type": "markdown",
   "metadata": {},
   "source": [
    "# Imports"
   ]
  },
  {
   "cell_type": "code",
   "execution_count": 1,
   "metadata": {},
   "outputs": [],
   "source": [
    "import numpy as np\n",
    "from glob import glob\n",
    "import torch\n",
    "import os, sys, time, csv\n",
    "import re\n",
    "import random\n",
    "import matplotlib.pyplot as plt\n",
    "from PIL import Image\n",
    "import ipywidgets as ipyw\n",
    "import inspect\n",
    "import pickle\n",
    "%matplotlib inline"
   ]
  },
  {
   "cell_type": "markdown",
   "metadata": {},
   "source": [
    "# Process image stacks into feature vector matrices using pre-trained model (for LSTM input)."
   ]
  },
  {
   "cell_type": "code",
   "execution_count": 2,
   "metadata": {},
   "outputs": [],
   "source": [
    "# Torch imports.\n",
    "import torchvision.models as models\n",
    "import torchvision.transforms as transforms\n",
    "import torchvision.datasets as datasets\n",
    "import torch.nn as nn\n",
    "import torch.functional as F\n",
    "import torch.optim as optim\n",
    "import torchvision.models.resnet\n",
    "\n",
    "# Visualization imports\n",
    "from IPython import display\n"
   ]
  },
  {
   "cell_type": "code",
   "execution_count": 3,
   "metadata": {},
   "outputs": [],
   "source": [
    "# Part A: Load in model pre-trained on individual images. Note that pre-training may not even be necessary, as I was only\n",
    "# changing the weights on the last (new) fully connected layer, and that layer will likely be gotten rid of. \n",
    "model = models.densenet121(pretrained=True)\n",
    "\n",
    "for param in model.parameters():\n",
    "    param.requires_grad = False\n",
    "del model.classifier"
   ]
  },
  {
   "cell_type": "markdown",
   "metadata": {},
   "source": [
    "# Assemble image pathnames and understand class breakdown in dataset"
   ]
  },
  {
   "cell_type": "code",
   "execution_count": 4,
   "metadata": {},
   "outputs": [
    {
     "name": "stdout",
     "output_type": "stream",
     "text": [
      "There are 9123 training stacks, 1141 validation stacks and 1141 test stacks.\n",
      "For the training stacks, 50.1% (4574) are positive and 49.9% (4549) are negative.\n",
      "For the validation stacks, 50.1% (572) are positive and 49.9% (569) are negative.\n",
      "For the test stacks, 50.1% (572) are positive and 49.9% (569) are negative.\n"
     ]
    }
   ],
   "source": [
    "# Note down train, validation and test directories.\n",
    "topDir = 'Split_Data'\n",
    "# topDir = 'Tiny_Data'\n",
    "\n",
    "saveName = 'Testing'\n",
    "\n",
    "train_dir = topDir + \"/train\"\n",
    "valid_dir = topDir + \"/valid\"\n",
    "test_dir = topDir + \"/test\"\n",
    "\n",
    "# Check quantities of train, validation and test images\n",
    "train_images = np.array(glob(train_dir + \"/*/*\"))\n",
    "valid_images = np.array(glob(valid_dir + \"/*/*\"))\n",
    "test_images = np.array(glob(test_dir + \"/*/*\"))\n",
    "\n",
    "# Check relative percentages of image types\n",
    "train_images_absent = np.array(glob(train_dir + \"/Absent/*\"))\n",
    "train_images_present = np.array(glob(train_dir + \"/Present/*\"))\n",
    "\n",
    "valid_images_absent = np.array(glob(valid_dir + \"/Absent/*\"))\n",
    "valid_images_present = np.array(glob(valid_dir + \"/Present/*\"))\n",
    "\n",
    "test_images_absent = np.array(glob(test_dir + \"/Absent/*\"))\n",
    "test_images_present = np.array(glob(test_dir + \"/Present/*\"))\n",
    "\n",
    "num_train_images = len(train_images)\n",
    "num_valid_images = len(valid_images)\n",
    "num_test_images = len(test_images)\n",
    "\n",
    "print(\"There are {} training stacks, {} validation stacks and {} test stacks.\".format(len(train_images),len(valid_images),len(test_images)))\n",
    "print(\"For the training stacks, {pos:=.1f}% ({pos2}) are positive and {neg:=.1f}% ({neg2}) are negative.\".format(pos=len(train_images_present)/len(train_images)*100, pos2=len(train_images_present),neg=len(train_images_absent)/len(train_images)*100, neg2=len(train_images_absent)))\n",
    "print(\"For the validation stacks, {pos:=.1f}% ({pos2}) are positive and {neg:=.1f}% ({neg2}) are negative.\".format(pos=len(valid_images_present)/len(valid_images)*100, pos2=len(valid_images_present),neg=len(valid_images_absent)/len(valid_images)*100, neg2=len(valid_images_absent)))\n",
    "print(\"For the test stacks, {pos:=.1f}% ({pos2}) are positive and {neg:=.1f}% ({neg2}) are negative.\".format(pos=len(test_images_present)/len(test_images)*100, pos2=len(test_images_present),neg=len(test_images_absent)/len(test_images)*100, neg2=len(test_images_absent)))"
   ]
  },
  {
   "cell_type": "code",
   "execution_count": 5,
   "metadata": {},
   "outputs": [],
   "source": [
    "# Check for GPU support\n",
    "use_cuda = torch.cuda.is_available()"
   ]
  },
  {
   "cell_type": "code",
   "execution_count": 6,
   "metadata": {},
   "outputs": [
    {
     "name": "stdout",
     "output_type": "stream",
     "text": [
      "1 GPUs found.\n"
     ]
    }
   ],
   "source": [
    "# Check to see how many GPUs are available.\n",
    "device = torch.device(\"cuda\" if use_cuda else \"cpu\")\n",
    "if use_cuda:\n",
    "    num_devices = torch.cuda.device_count()\n",
    "    print(\"{} GPUs found.\".format(num_devices))\n",
    "else:\n",
    "    num_devices = 0"
   ]
  },
  {
   "cell_type": "markdown",
   "metadata": {},
   "source": [
    "# Plot sample image stacks"
   ]
  },
  {
   "cell_type": "code",
   "execution_count": 16,
   "metadata": {},
   "outputs": [],
   "source": [
    "# Following https://github.com/mohakpatel/ImageSliceViewer3D, with modifications for plotting multiple stacks of color images. \n",
    "class ImageSliceViewer:\n",
    "    \"\"\" \n",
    "    ImageSliceViewer is for viewing image stacks in jupyter or\n",
    "    ipython notebooks. \n",
    "    \n",
    "    User can interactively change the slice plane selection for the image.\n",
    "\n",
    "    Argumentss:\n",
    "    Volume = stack of color input images [num images, height, width, RGB]\n",
    "    figsize = default(8,8), to set the size of the figure\n",
    "    \n",
    "    \"\"\"\n",
    "    \n",
    "    def __init__(self, volume, figsize=(10,10)):\n",
    "        self.volume = volume\n",
    "        self.figsize = figsize\n",
    "        self.v = [np.min(volume), np.max(volume)]\n",
    "        \n",
    "        # Call to select slice plane\n",
    "        ipyw.interact(self.view_selection, view=ipyw.RadioButtons(\n",
    "            options=['x-y'], value='x-y', \n",
    "            description='Slice plane selection:', disabled=False,\n",
    "            style={'description_width': 'initial'}))\n",
    "    \n",
    "    def view_selection(self, view):\n",
    "        # View the volume\n",
    "        maxZ = self.volume.shape[0] - 1\n",
    "        \n",
    "        # Call to view a slice within the selected slice plane\n",
    "        ipyw.interact(self.plot_slice, \n",
    "            z=ipyw.IntSlider(min=0, max=maxZ, step=1, continuous_update=False, \n",
    "            description='Image Slice:'))\n",
    "        \n",
    "    def plot_slice(self, z):\n",
    "        # Plot slice for the given plane and slice\n",
    "        fig=plt.figure(figsize=self.figsize)\n",
    "        plt.imshow(self.volume[z,:,:,:], \n",
    "            vmin=self.v[0], vmax=self.v[1])\n",
    "# ''';"
   ]
  },
  {
   "cell_type": "code",
   "execution_count": 19,
   "metadata": {},
   "outputs": [],
   "source": [
    "def show_an_image_stack(dataset):\n",
    "    fig = plt.figure(figsize = (10,10))\n",
    "    axes = []\n",
    "    # Grab a stack at random and build a volume.\n",
    "    directories = os.listdir(dataset)\n",
    "    directory = directories[np.random.randint(0,len(directories)-1)]\n",
    "    files = os.listdir(os.path.join(dataset,directory))\n",
    "    print(\"Plotting image stack {}\".format(os.path.join(dataset,directory)))\n",
    "    files.sort()\n",
    "    imgArr = []\n",
    "    for file in files:\n",
    "        file = os.path.join(dataset,directory, file)\n",
    "        file = pickle.load(file)\n",
    "        imgArr.append(np.array(Image.open(file)))\n",
    "    imgArr = np.array(imgArr)\n",
    "    # Plot the volume within a subplot\n",
    "    ImageSliceViewer(imgArr)\n",
    "# ''';"
   ]
  },
  {
   "cell_type": "code",
   "execution_count": 21,
   "metadata": {},
   "outputs": [],
   "source": [
    "# show_an_image_stack('Split_Data/train/Present')"
   ]
  },
  {
   "cell_type": "markdown",
   "metadata": {},
   "source": [
    "# Imports for torch and DALI functions"
   ]
  },
  {
   "cell_type": "code",
   "execution_count": 7,
   "metadata": {},
   "outputs": [],
   "source": [
    "# Define the model\n",
    "class MM_DNN(nn.Module):\n",
    "    def __init__(self, drop_prob=0.2, lr=0.001):\n",
    "        super().__init__()\n",
    "        self.drop_prob = drop_prob\n",
    "        self.lr = lr\n",
    "        \n",
    "        self.dropout = nn.Dropout(drop_prob)\n",
    "        \n",
    "        self.fc = nn.Linear(5*1024,256)\n",
    "        self.fc2 = nn.Linear(256,64)\n",
    "        self.fc3 = nn.Linear(64,2)\n",
    "        \n",
    "        self.relu = nn.ReLU()\n",
    "        \n",
    "    def forward(self, x):\n",
    "        ''' Forward pass through the network. \n",
    "            These inputs are x, and the hidden/cell state `hidden`. '''\n",
    "        x = x.view(-1)\n",
    "        out = self.dropout(self.relu(self.fc(x)))\n",
    "        out = self.dropout(self.relu(self.fc2(out)))\n",
    "        out = self.fc3(out)\n",
    "        # return the final output\n",
    "        return out\n",
    "    \n"
   ]
  },
  {
   "cell_type": "code",
   "execution_count": 8,
   "metadata": {},
   "outputs": [],
   "source": [
    "# Use the PyTorch data loader here, way easier. \n",
    "def load_pickle(path):\n",
    "    with open(path,'rb') as f:\n",
    "        return pickle.load(f)\n",
    "    \n",
    "train_data = datasets.DatasetFolder(train_dir,load_pickle,'.pickle')\n",
    "validation_data = datasets.DatasetFolder(valid_dir,load_pickle,'.pickle')\n",
    "test_data = datasets.DatasetFolder(test_dir,load_pickle,'.pickle')\n",
    "train_loader = torch.utils.data.DataLoader(train_data, batch_size = 1, shuffle=True, drop_last=True, num_workers=num_devices*4, pin_memory=True)\n",
    "valid_loader = torch.utils.data.DataLoader(validation_data, batch_size = 1, num_workers=num_devices*4, pin_memory=True, drop_last=True)\n",
    "test_loader = torch.utils.data.DataLoader(test_data, batch_size = 1, num_workers=num_devices*4, pin_memory=True)"
   ]
  },
  {
   "cell_type": "code",
   "execution_count": 32,
   "metadata": {},
   "outputs": [
    {
     "name": "stdout",
     "output_type": "stream",
     "text": [
      "Dataset DatasetFolder\n",
      "    Number of datapoints: 9123\n",
      "    Root Location: Split_Data/train\n",
      "    Transforms (if any): None\n",
      "    Target Transforms (if any): None\n"
     ]
    }
   ],
   "source": [
    "x = load_pickle('/home/ubuntu/src/YPB-AI/Data/7_Sample5_Dark_12-Mar-2019_11-41-58.pickle')\n",
    "len(x[3][0])\n",
    "image, label = iter(train_loader).next()\n",
    "print(train_data)"
   ]
  },
  {
   "cell_type": "code",
   "execution_count": 99,
   "metadata": {},
   "outputs": [],
   "source": [
    "def train(net, train_loader, epochs=10, batch_size=2, lr=0.001, print_every=10):\n",
    "    ''' Training a network \n",
    "    \n",
    "        Arguments\n",
    "        ---------\n",
    "        \n",
    "        net: DNN network\n",
    "        train_loader: PyTorch dataloader containing data to train the network\n",
    "        epochs: Number of epochs to train\n",
    "        batch_size: Number of mini-sequences per mini-batch, aka batch size\n",
    "        lr: learning rate\n",
    "        print_every: Number of steps for printing training and validation loss\n",
    "    \n",
    "    '''\n",
    "    valid_batch = 1\n",
    "    net.train()\n",
    "    \n",
    "    opt = torch.optim.Adam(net.parameters(), lr=lr)\n",
    "    criterion = nn.CrossEntropyLoss()\n",
    "    \n",
    "    running_loss = 0.\n",
    "    \n",
    "    \n",
    "    if(use_cuda):\n",
    "        net.cuda()\n",
    "    all_valid_losses = [.6]\n",
    "    counter = 0\n",
    "    for e in range(epochs):\n",
    "        \n",
    "        for batch_idx, batch_data in enumerate(train_loader):\n",
    "            inputs = batch_data[0].view(12,batch_size,1024)\n",
    "            inputs = inputs[0:5] # Can try increase this to compare; original = 4 \n",
    "            targets = batch_data[1]\n",
    "            if(use_cuda):\n",
    "                inputs, targets = inputs.cuda(), targets.cuda()\n",
    "            # zero accumulated gradients\n",
    "            net.zero_grad()\n",
    "            # get the output from the model\n",
    "            output = net(inputs)\n",
    "            # calculate the loss and perform backprop\n",
    "            loss = criterion(output.view(batch_size,2), targets)\n",
    "            loss.backward()\n",
    "            opt.step()\n",
    "            running_loss += loss.item()\n",
    "            \n",
    "            # loss stats\n",
    "            if batch_idx % print_every == 0:\n",
    "                # Get validation loss\n",
    "                val_losses = []\n",
    "                train_losses = []\n",
    "                net.eval()\n",
    "                correct = 0.\n",
    "                total = 0.\n",
    "                for val_batch_idx, batch_data in enumerate(valid_loader):                    \n",
    "                    inputs, targets = batch_data[0].view(12,valid_batch,1024), batch_data[1]\n",
    "                    inputs = inputs[0:5]\n",
    "                    \n",
    "                    if(use_cuda):\n",
    "                        inputs, targets = inputs.cuda(), targets.cuda()\n",
    "\n",
    "                    output = net(inputs)\n",
    "                    print(output)\n",
    "                    \n",
    "                    val_loss = criterion(output.view(valid_batch,2), targets)\n",
    "                    val_losses.append(val_loss.item()/len(valid_loader))\n",
    "                    \n",
    "                    train_losses.append(running_loss/len(train_loader))\n",
    "                    \n",
    "                    pred = output.max(0,keepdim=True)[1]\n",
    "                    print(pred)\n",
    "                    # compare predictions to true label\n",
    "                    correct += np.sum(np.squeeze(pred.eq(targets.data.view_as(pred))).cpu().numpy())\n",
    "                    total += valid_batch\n",
    "                \n",
    "                net.train() # reset to train mode after iteration through validation data\n",
    "                \n",
    "                print(\"Epoch: {}/{}...\".format(e+1, epochs),\n",
    "                      \"Step: {}...\".format(batch_idx),\n",
    "                      \"Loss: {:.8f}...\".format(loss.item()),\n",
    "                      \"Val Loss: {:.4f}...\".format(np.mean(val_losses)),\n",
    "                      \"Val Accuracy: {:.1f}%\".format(correct/total*100))\n",
    "                \n",
    "                if np.mean(val_losses) < np.min(all_valid_losses):\n",
    "                    print(\"Validation loss dropped, saving model.\")\n",
    "                    # torch.save(net,'DNNModel_' + saveName + '.pt')\n",
    "                    all_valid_losses = np.append(all_valid_losses,np.mean(val_losses))"
   ]
  },
  {
   "cell_type": "code",
   "execution_count": 100,
   "metadata": {},
   "outputs": [
    {
     "name": "stdout",
     "output_type": "stream",
     "text": [
      "MM_DNN(\n",
      "  (dropout): Dropout(p=0.2)\n",
      "  (fc): Linear(in_features=5120, out_features=256, bias=True)\n",
      "  (fc2): Linear(in_features=256, out_features=64, bias=True)\n",
      "  (fc3): Linear(in_features=64, out_features=2, bias=True)\n",
      "  (relu): ReLU()\n",
      ")\n"
     ]
    }
   ],
   "source": [
    "# define and print the net\n",
    "\n",
    "net = MM_DNN()\n",
    "#net = MM_LSTM(32,1)\n",
    "print(net)"
   ]
  },
  {
   "cell_type": "code",
   "execution_count": 103,
   "metadata": {},
   "outputs": [
    {
     "name": "stdout",
     "output_type": "stream",
     "text": [
      "Epoch: 1/50... Step: 0... Loss: 0.00000000... Val Loss: 0.0001... Val Accuracy: 96.6%\n",
      "Validation loss dropped, saving model.\n"
     ]
    },
    {
     "name": "stderr",
     "output_type": "stream",
     "text": [
      "/home/ubuntu/anaconda3/envs/derm-ai/lib/python3.6/site-packages/torch/serialization.py:251: UserWarning: Couldn't retrieve source code for container of type MM_DNN. It won't be checked for correctness upon loading.\n",
      "  \"type \" + obj.__name__ + \". It won't be checked \"\n"
     ]
    },
    {
     "name": "stdout",
     "output_type": "stream",
     "text": [
      "Epoch: 1/50... Step: 6000... Loss: 0.00816464... Val Loss: 0.0001... Val Accuracy: 96.3%\n",
      "Epoch: 2/50... Step: 0... Loss: 0.00001049... Val Loss: 0.0001... Val Accuracy: 96.9%\n",
      "Validation loss dropped, saving model.\n",
      "Epoch: 2/50... Step: 6000... Loss: 0.00002337... Val Loss: 0.0001... Val Accuracy: 97.2%\n",
      "Epoch: 3/50... Step: 0... Loss: 0.00001240... Val Loss: 0.0001... Val Accuracy: 96.3%\n",
      "Epoch: 3/50... Step: 6000... Loss: 0.04241788... Val Loss: 0.0001... Val Accuracy: 96.5%\n",
      "Epoch: 4/50... Step: 0... Loss: 0.00001192... Val Loss: 0.0001... Val Accuracy: 97.2%\n",
      "Epoch: 4/50... Step: 6000... Loss: 0.00009298... Val Loss: 0.0001... Val Accuracy: 96.6%\n",
      "Epoch: 5/50... Step: 0... Loss: 0.00000095... Val Loss: 0.0001... Val Accuracy: 96.7%\n",
      "Epoch: 5/50... Step: 6000... Loss: 0.00000000... Val Loss: 0.0001... Val Accuracy: 96.9%\n",
      "Epoch: 6/50... Step: 0... Loss: 0.00029039... Val Loss: 0.0001... Val Accuracy: 96.8%\n",
      "Epoch: 6/50... Step: 6000... Loss: 0.00000978... Val Loss: 0.0001... Val Accuracy: 96.8%\n",
      "Epoch: 7/50... Step: 0... Loss: 0.00004482... Val Loss: 0.0001... Val Accuracy: 96.9%\n",
      "Epoch: 7/50... Step: 6000... Loss: 0.00178671... Val Loss: 0.0001... Val Accuracy: 96.2%\n",
      "Epoch: 8/50... Step: 0... Loss: 0.00004625... Val Loss: 0.0001... Val Accuracy: 97.0%\n",
      "Epoch: 8/50... Step: 6000... Loss: 0.00010920... Val Loss: 0.0001... Val Accuracy: 97.1%\n",
      "Validation loss dropped, saving model.\n",
      "Epoch: 9/50... Step: 0... Loss: 0.00005102... Val Loss: 0.0001... Val Accuracy: 96.8%\n",
      "Epoch: 9/50... Step: 6000... Loss: 0.00003052... Val Loss: 0.0001... Val Accuracy: 96.8%\n",
      "Epoch: 10/50... Step: 0... Loss: 0.00005341... Val Loss: 0.0001... Val Accuracy: 96.8%\n",
      "Epoch: 10/50... Step: 6000... Loss: 0.00047040... Val Loss: 0.0001... Val Accuracy: 96.7%\n",
      "Epoch: 11/50... Step: 0... Loss: 0.00000000... Val Loss: 0.0001... Val Accuracy: 96.6%\n",
      "Epoch: 11/50... Step: 6000... Loss: 0.00000000... Val Loss: 0.0002... Val Accuracy: 96.6%\n",
      "Epoch: 12/50... Step: 0... Loss: 0.00000000... Val Loss: 0.0001... Val Accuracy: 96.8%\n",
      "Epoch: 12/50... Step: 6000... Loss: 0.00000000... Val Loss: 0.0004... Val Accuracy: 93.4%\n",
      "Epoch: 13/50... Step: 0... Loss: 0.00000000... Val Loss: 0.0002... Val Accuracy: 96.0%\n",
      "Epoch: 13/50... Step: 6000... Loss: 0.00000095... Val Loss: 0.0001... Val Accuracy: 96.8%\n",
      "Epoch: 14/50... Step: 0... Loss: 0.00000000... Val Loss: 0.0001... Val Accuracy: 96.8%\n",
      "Epoch: 14/50... Step: 6000... Loss: 0.00001478... Val Loss: 0.0001... Val Accuracy: 96.8%\n",
      "Epoch: 15/50... Step: 0... Loss: 0.00000000... Val Loss: 0.0001... Val Accuracy: 96.8%\n",
      "Epoch: 15/50... Step: 6000... Loss: 0.00004697... Val Loss: 0.0001... Val Accuracy: 96.8%\n",
      "Epoch: 16/50... Step: 0... Loss: 0.00043154... Val Loss: 0.0001... Val Accuracy: 97.1%\n",
      "Epoch: 16/50... Step: 6000... Loss: 0.00000119... Val Loss: 0.0001... Val Accuracy: 97.3%\n",
      "Epoch: 17/50... Step: 0... Loss: 0.00020599... Val Loss: 0.0001... Val Accuracy: 96.1%\n",
      "Epoch: 17/50... Step: 6000... Loss: 0.00000000... Val Loss: 0.0001... Val Accuracy: 96.8%\n",
      "Epoch: 18/50... Step: 0... Loss: 0.00000274... Val Loss: 0.0001... Val Accuracy: 96.7%\n",
      "Epoch: 18/50... Step: 6000... Loss: 0.00001669... Val Loss: 0.0001... Val Accuracy: 96.8%\n",
      "Epoch: 19/50... Step: 0... Loss: 0.00000048... Val Loss: 0.0002... Val Accuracy: 96.1%\n",
      "Epoch: 19/50... Step: 6000... Loss: 0.00001764... Val Loss: 0.0001... Val Accuracy: 96.7%\n",
      "Epoch: 20/50... Step: 0... Loss: 0.00000000... Val Loss: 0.0002... Val Accuracy: 96.4%\n",
      "Epoch: 20/50... Step: 6000... Loss: 0.00000000... Val Loss: 0.0001... Val Accuracy: 97.3%\n",
      "Epoch: 21/50... Step: 0... Loss: 0.00103247... Val Loss: 0.0001... Val Accuracy: 97.6%\n",
      "Epoch: 21/50... Step: 6000... Loss: 0.00000000... Val Loss: 0.0001... Val Accuracy: 97.3%\n",
      "Epoch: 22/50... Step: 0... Loss: 0.00000000... Val Loss: 0.0001... Val Accuracy: 96.4%\n",
      "Epoch: 22/50... Step: 6000... Loss: 0.15270047... Val Loss: 0.0001... Val Accuracy: 96.6%\n",
      "Epoch: 23/50... Step: 0... Loss: 0.00870717... Val Loss: 0.0001... Val Accuracy: 97.1%\n",
      "Epoch: 23/50... Step: 6000... Loss: 0.00000000... Val Loss: 0.0001... Val Accuracy: 96.8%\n",
      "Epoch: 24/50... Step: 0... Loss: 0.00000095... Val Loss: 0.0001... Val Accuracy: 97.3%\n",
      "Epoch: 24/50... Step: 6000... Loss: 0.00282812... Val Loss: 0.0001... Val Accuracy: 96.3%\n",
      "Epoch: 27/50... Step: 6000... Loss: 1.11318469... Val Loss: 0.0001... Val Accuracy: 97.1%\n",
      "Epoch: 28/50... Step: 0... Loss: 0.00220060... Val Loss: 0.0001... Val Accuracy: 96.8%\n",
      "Epoch: 28/50... Step: 6000... Loss: 0.00279140... Val Loss: 0.0001... Val Accuracy: 96.6%\n",
      "Epoch: 29/50... Step: 0... Loss: 0.00022316... Val Loss: 0.0001... Val Accuracy: 96.6%\n",
      "Epoch: 29/50... Step: 6000... Loss: 0.00007105... Val Loss: 0.0001... Val Accuracy: 96.4%\n",
      "Epoch: 30/50... Step: 0... Loss: 0.00039172... Val Loss: 0.0001... Val Accuracy: 96.9%\n",
      "Epoch: 30/50... Step: 6000... Loss: 0.00000000... Val Loss: 0.0001... Val Accuracy: 96.9%\n",
      "Epoch: 31/50... Step: 0... Loss: 0.06371164... Val Loss: 0.0001... Val Accuracy: 96.8%\n",
      "Epoch: 31/50... Step: 6000... Loss: 0.00060177... Val Loss: 0.0001... Val Accuracy: 96.4%\n",
      "Epoch: 32/50... Step: 0... Loss: 0.00010920... Val Loss: 0.0001... Val Accuracy: 97.0%\n",
      "Epoch: 32/50... Step: 6000... Loss: 0.00000191... Val Loss: 0.0001... Val Accuracy: 96.6%\n",
      "Epoch: 33/50... Step: 0... Loss: 0.00000000... Val Loss: 0.0001... Val Accuracy: 96.9%\n",
      "Epoch: 33/50... Step: 6000... Loss: 0.00338364... Val Loss: 0.0001... Val Accuracy: 96.9%\n",
      "Epoch: 34/50... Step: 0... Loss: 0.00000930... Val Loss: 0.0001... Val Accuracy: 96.9%\n",
      "Epoch: 34/50... Step: 6000... Loss: 0.00000000... Val Loss: 0.0001... Val Accuracy: 96.9%\n",
      "Epoch: 35/50... Step: 0... Loss: 0.00000048... Val Loss: 0.0001... Val Accuracy: 96.7%\n",
      "Epoch: 35/50... Step: 6000... Loss: 0.00000000... Val Loss: 0.0001... Val Accuracy: 97.3%\n",
      "Epoch: 36/50... Step: 0... Loss: 0.00000072... Val Loss: 0.0001... Val Accuracy: 96.9%\n",
      "Epoch: 36/50... Step: 6000... Loss: 0.00001192... Val Loss: 0.0001... Val Accuracy: 97.0%\n",
      "Epoch: 37/50... Step: 0... Loss: 0.02479649... Val Loss: 0.0001... Val Accuracy: 97.0%\n",
      "Epoch: 37/50... Step: 6000... Loss: 0.00000143... Val Loss: 0.0001... Val Accuracy: 96.6%\n",
      "Epoch: 38/50... Step: 0... Loss: 0.00089073... Val Loss: 0.0001... Val Accuracy: 96.6%\n",
      "Epoch: 38/50... Step: 6000... Loss: 0.00000000... Val Loss: 0.0001... Val Accuracy: 96.6%\n",
      "Epoch: 39/50... Step: 0... Loss: 0.00000000... Val Loss: 0.0001... Val Accuracy: 96.9%\n",
      "Epoch: 39/50... Step: 6000... Loss: 0.00000000... Val Loss: 0.0001... Val Accuracy: 97.2%\n",
      "Epoch: 40/50... Step: 0... Loss: 0.00021601... Val Loss: 0.0001... Val Accuracy: 97.1%\n",
      "Epoch: 40/50... Step: 6000... Loss: 0.00013304... Val Loss: 0.0001... Val Accuracy: 97.1%\n",
      "Epoch: 41/50... Step: 0... Loss: 0.00005269... Val Loss: 0.0002... Val Accuracy: 95.5%\n",
      "Epoch: 41/50... Step: 6000... Loss: 0.00000000... Val Loss: 0.0001... Val Accuracy: 97.5%\n",
      "Epoch: 42/50... Step: 0... Loss: 0.00000000... Val Loss: 0.0001... Val Accuracy: 96.8%\n",
      "Epoch: 42/50... Step: 6000... Loss: 0.00000000... Val Loss: 0.0002... Val Accuracy: 96.8%\n",
      "Epoch: 43/50... Step: 0... Loss: 0.00000215... Val Loss: 0.0001... Val Accuracy: 97.0%\n",
      "Epoch: 43/50... Step: 6000... Loss: 0.00013185... Val Loss: 0.0001... Val Accuracy: 97.2%\n",
      "Epoch: 44/50... Step: 0... Loss: 0.00000000... Val Loss: 0.0001... Val Accuracy: 96.8%\n",
      "Epoch: 44/50... Step: 6000... Loss: 0.00004053... Val Loss: 0.0001... Val Accuracy: 97.1%\n",
      "Epoch: 45/50... Step: 0... Loss: 0.00000000... Val Loss: 0.0002... Val Accuracy: 96.9%\n",
      "Epoch: 45/50... Step: 6000... Loss: 0.00000000... Val Loss: 0.0002... Val Accuracy: 96.4%\n",
      "Epoch: 46/50... Step: 0... Loss: 0.00000000... Val Loss: 0.0001... Val Accuracy: 96.7%\n",
      "Epoch: 46/50... Step: 6000... Loss: 0.00000000... Val Loss: 0.0002... Val Accuracy: 96.4%\n",
      "Epoch: 47/50... Step: 0... Loss: 0.00002813... Val Loss: 0.0001... Val Accuracy: 96.8%\n",
      "Epoch: 47/50... Step: 6000... Loss: 0.00000000... Val Loss: 0.0002... Val Accuracy: 96.9%\n",
      "Epoch: 48/50... Step: 0... Loss: 0.00156951... Val Loss: 0.0001... Val Accuracy: 96.8%\n",
      "Epoch: 48/50... Step: 6000... Loss: 0.00124335... Val Loss: 0.0001... Val Accuracy: 97.3%\n",
      "Epoch: 49/50... Step: 0... Loss: 0.00050175... Val Loss: 0.0001... Val Accuracy: 97.2%\n",
      "Epoch: 49/50... Step: 6000... Loss: 0.00000000... Val Loss: 0.0001... Val Accuracy: 97.1%\n"
     ]
    },
    {
     "name": "stdout",
     "output_type": "stream",
     "text": [
      "Epoch: 50/50... Step: 0... Loss: 0.00000858... Val Loss: 0.0001... Val Accuracy: 97.0%\n",
      "Epoch: 50/50... Step: 6000... Loss: 2.60775280... Val Loss: 0.0001... Val Accuracy: 96.6%\n"
     ]
    }
   ],
   "source": [
    "train(net,train_loader,50,1,print_every=6000,lr=0.0001)"
   ]
  },
  {
   "cell_type": "code",
   "execution_count": null,
   "metadata": {},
   "outputs": [],
   "source": [
    "# Plot learning curve\n",
    "plt.plot(train_losses, label='Training loss')\n",
    "plt.plot(val_losses, label='Validation loss')\n",
    "plt.legend(frameon=False)\n",
    "plt.show()"
   ]
  },
  {
   "cell_type": "code",
   "execution_count": 13,
   "metadata": {},
   "outputs": [],
   "source": [
    "net = torch.load('DNNModel_' + saveName + '.pt')\n",
    "stateDictName ='DNN_StateDict_' + saveName + '.pt'"
   ]
  },
  {
   "cell_type": "code",
   "execution_count": 38,
   "metadata": {},
   "outputs": [],
   "source": [
    "torch.save(net.state_dict(), stateDictName)"
   ]
  },
  {
   "cell_type": "code",
   "execution_count": 14,
   "metadata": {},
   "outputs": [],
   "source": [
    "net.load_state_dict(torch.load(stateDictName))"
   ]
  },
  {
   "cell_type": "code",
   "execution_count": 29,
   "metadata": {},
   "outputs": [
    {
     "name": "stdout",
     "output_type": "stream",
     "text": [
      "<torch.utils.data.dataloader.DataLoader object at 0x7fbeea93d748>\n"
     ]
    }
   ],
   "source": [
    "# Test data\n",
    "print(test_loader)\n",
    "\n",
    "def test(net, test_loader):\n",
    "    net.eval()\n",
    "    correct = 0.\n",
    "    total = 0.\n",
    "    test_batch = 1\n",
    "    test_losses = []\n",
    "    criterion = nn.CrossEntropyLoss()\n",
    "    for test_batch_idx, batch_data in enumerate(test_loader):                    \n",
    "        inputs, targets = batch_data[0].view(12,test_batch,1024), batch_data[1]\n",
    "        inputs = inputs[0:4]\n",
    "\n",
    "        if(use_cuda):\n",
    "            inputs, targets = inputs.cuda(), targets.cuda()\n",
    "            \n",
    "        # print(inputs)\n",
    "        output = net(inputs)\n",
    "\n",
    "        test_loss = criterion(output.view(test_batch,2), targets)\n",
    "        test_losses.append(test_loss.item()/len(test_loader))\n",
    "\n",
    "        pred = output.max(0,keepdim=True)[1]\n",
    "        # compare predictions to true label\n",
    "        correct += np.sum(np.squeeze(pred.eq(targets.data.view_as(pred))).cpu().numpy())\n",
    "        total += test_batch\n",
    "        \n",
    "    print(\"Test Loss: {:.8f}...\".format(np.mean(test_losses)),\n",
    "      \"Test Accuracy: {:.1f}%\".format(correct/total*100))\n",
    "# plt.imshow(torchvision.utils.make_grid(images))\n",
    "\n",
    "# outputs = net(images)"
   ]
  },
  {
   "cell_type": "code",
   "execution_count": 30,
   "metadata": {},
   "outputs": [
    {
     "name": "stdout",
     "output_type": "stream",
     "text": [
      "Test Loss: 0.00005668... Test Accuracy: 97.8%\n"
     ]
    }
   ],
   "source": [
    "test(net, test_loader)"
   ]
  },
  {
   "cell_type": "code",
   "execution_count": 40,
   "metadata": {},
   "outputs": [],
   "source": [
    "net.load_state_dict(torch.load('DNN_StateDict_S3_Iter_1.pt'))"
   ]
  },
  {
   "cell_type": "code",
   "execution_count": 58,
   "metadata": {},
   "outputs": [],
   "source": [
    "net.eval()\n",
    "correct = 0.\n",
    "total = 0.\n",
    "false_pos = 0.\n",
    "false_neg = 0.\n",
    "test_batch = 1\n",
    "test_losses = []\n",
    "criterion = nn.CrossEntropyLoss()\n",
    "for test_batch_idx, batch_data in enumerate(test_loader):                    \n",
    "    inputs, targets = batch_data[0].view(12,test_batch,1024), batch_data[1]\n",
    "    inputs = inputs[0:4]\n",
    "\n",
    "    if(use_cuda):\n",
    "        inputs, targets = inputs.cuda(), targets.cuda()\n",
    "\n",
    "    # print(inputs)\n",
    "    output = net(inputs)\n",
    "\n",
    "    test_loss = criterion(output.view(test_batch,2), targets)\n",
    "    test_losses.append(test_loss.item()/len(test_loader))\n",
    "\n",
    "    pred = output.max(0,keepdim=True)[1]\n",
    "    \n",
    "    # compare predictions to true label\n",
    "    correct += np.sum(np.squeeze(pred.eq(targets.data.view_as(pred))).cpu().numpy())\n",
    "    \n",
    "    # number of false positives; hack for batch size = 1\n",
    "    false_pos += int(targets.data.cpu().numpy()[0] == 0 and pred.data.cpu().numpy()[0] == 1)\n",
    "    \n",
    "    # number of false negatives; hack for batch size = 1\n",
    "    false_neg += int(targets.data.cpu().numpy()[0] == 1 and pred.data.cpu().numpy()[0] == 0)\n",
    "    \n",
    "    total += test_batch"
   ]
  },
  {
   "cell_type": "code",
   "execution_count": 59,
   "metadata": {},
   "outputs": [
    {
     "name": "stdout",
     "output_type": "stream",
     "text": [
      "1116.0\n",
      "1141.0\n",
      "15.0\n",
      "10.0\n"
     ]
    },
    {
     "data": {
      "text/plain": [
       "0"
      ]
     },
     "execution_count": 59,
     "metadata": {},
     "output_type": "execute_result"
    }
   ],
   "source": [
    "print(correct)\n",
    "print(total)\n",
    "print(false_pos)\n",
    "print(false_neg)\n",
    "int(targets.data.cpu().numpy()[0] == 1 and pred.data.cpu().numpy()[0] == 0)"
   ]
  },
  {
   "cell_type": "markdown",
   "metadata": {},
   "source": [
    "# Zip up state dict, get over to S3"
   ]
  },
  {
   "cell_type": "code",
   "execution_count": 90,
   "metadata": {},
   "outputs": [],
   "source": [
    "# The below lines are only needed if allowing SageMaker to perform inference on the model.\n",
    "# I can walk you through that when you get there.\n",
    "\n",
    "#tarName = 'DNNModel_' + saveName + '.tar.gz' "
   ]
  },
  {
   "cell_type": "code",
   "execution_count": 91,
   "metadata": {},
   "outputs": [
    {
     "data": {
      "text/plain": [
       "0"
      ]
     },
     "execution_count": 91,
     "metadata": {},
     "output_type": "execute_result"
    }
   ],
   "source": [
    "#os.system('tar -cvzf ' + tarName + ' ' + stateDictName)\n",
    "#os.system('aws s3 cp ' + tarName + ' s3://ypb-ml-images/' + tarName)"
   ]
  },
  {
   "cell_type": "code",
   "execution_count": null,
   "metadata": {},
   "outputs": [],
   "source": []
  }
 ],
 "metadata": {
  "kernelspec": {
   "display_name": "Environment (conda_derm-ai)",
   "language": "python",
   "name": "conda_derm-ai"
  },
  "language_info": {
   "codemirror_mode": {
    "name": "ipython",
    "version": 3
   },
   "file_extension": ".py",
   "mimetype": "text/x-python",
   "name": "python",
   "nbconvert_exporter": "python",
   "pygments_lexer": "ipython3",
   "version": "3.6.5"
  }
 },
 "nbformat": 4,
 "nbformat_minor": 2
}
